{
 "cells": [
  {
   "cell_type": "code",
   "execution_count": 1,
   "metadata": {
    "collapsed": true
   },
   "outputs": [],
   "source": [
    "import os\n",
    "import re\n",
    "import pandas as pd\n",
    "from config import *\n",
    "from time import sleep\n",
    "from selenium import webdriver\n",
    "from multiprocessing import Process\n",
    "from selenium.webdriver.common.by import By\n",
    "from selenium.webdriver.firefox.options import Options\n"
   ]
  },
  {
   "cell_type": "code",
   "execution_count": 2,
   "metadata": {
    "collapsed": true
   },
   "outputs": [],
   "source": [
    "try:\n",
    "    current_path = os.path.dirname(os.path.abspath(__file__))\n",
    "except:\n",
    "    current_path = '.'"
   ]
  },
  {
   "cell_type": "code",
   "execution_count": 3,
   "metadata": {
    "collapsed": true
   },
   "outputs": [],
   "source": [
    "def init_driver(gecko_driver='', user_agent='', load_images=True, is_headless=False):\n",
    "    '''\n",
    "        This function is just to set up some of default for browser\n",
    "    '''\n",
    "    firefox_profile = webdriver.FirefoxProfile()\n",
    "    \n",
    "    firefox_profile.set_preference('dom.ipc.plugins.enabled.libflashplayer.so', False)\n",
    "    firefox_profile.set_preference(\"media.volume_scale\", \"0.0\")\n",
    "    firefox_profile.set_preference(\"dom.webnotifications.enabled\", False)\n",
    "    if user_agent != '':\n",
    "        firefox_profile.set_preference(\"general.useragent.override\", user_agent)\n",
    "    if not load_images:\n",
    "        firefox_profile.set_preference('permissions.default.image', 2)\n",
    "\n",
    "    options = Options()\n",
    "    options.headless = is_headless\n",
    "    \n",
    "    driver = webdriver.Firefox(options=options,\n",
    "                               executable_path=f'{current_path}/{gecko_driver}',\n",
    "                               firefox_profile=firefox_profile)\n",
    "    \n",
    "    return driver"
   ]
  },
  {
   "cell_type": "code",
   "execution_count": 4,
   "metadata": {
    "collapsed": true
   },
   "outputs": [],
   "source": [
    "def get_url(url, driver):\n",
    "    '''\n",
    "    Argument:\n",
    "        url of any page to get\n",
    "        driver that was inilized\n",
    "    return:\n",
    "        True\n",
    "    '''\n",
    "    driver.get(url)\n",
    "#     driver.refresh()\n",
    "#     sleep(2)\n",
    "    return True\n"
   ]
  },
  {
   "cell_type": "code",
   "execution_count": 5,
   "metadata": {
    "collapsed": true
   },
   "outputs": [],
   "source": [
    "def drug_content(contents, commercialnames):\n",
    "    all_data = \"\"\n",
    "    commercialnames = []\n",
    "    if commercialnames:\n",
    "        for text_in in contents:\n",
    "            commercialnames.append(text_in.text)\n",
    "        return commercialnames\n",
    "    else:\n",
    "        for text_in in contents:\n",
    "            all_data += text_in.text +' '\n",
    "        return all_data"
   ]
  },
  {
   "cell_type": "code",
   "execution_count": 6,
   "metadata": {
    "collapsed": true
   },
   "outputs": [],
   "source": [
    "def one_drug_details(driver3):\n",
    "    one_drug_data = {}\n",
    "    selector = driver3.find_elements_by_css_selector\n",
    "    try:\n",
    "        commercialnames       = drug_content(selector('#commercialnames div tbody tr td'), True)\n",
    "        commercialnames       = re.findall('[^A-Za-z 0-9().\\n]+', commercialnames)\n",
    "        one_drug_data = {\n",
    "#             'ar_name':      selector(),\n",
    "#             'en_name':      drug_content(selector('#whatisdrug div p'), False),\n",
    "            'description':      drug_content(selector('#whatisdrug div p'), False),\n",
    "            'method':           drug_content(selector('#method div'), False),\n",
    "            'frequency':        drug_content(selector('#frequency div'), False),\n",
    "            'dosagerange':      drug_content(selector('#dosagerange div'), False),\n",
    "            'affectiontime':    drug_content(selector('#affectiontime div'), False),\n",
    "            'affectionperiod':  drug_content(selector('#affectionperiod div'), False),\n",
    "            'nutrition':        drug_content(selector('#nutrition div'), False),\n",
    "            'storage':          drug_content(selector('#storage div'), False),\n",
    "            'forgotenmeal':     drug_content(selector('#forgotenmeal div'), False),\n",
    "            'medecinestop':     drug_content(selector('#medecinestop div'), False),\n",
    "            'excessdosing':     drug_content(selector('#excessdosing div'), False),\n",
    "            'pregnancy':        drug_content(selector('#pregnancy div'), False),\n",
    "            'breastfeed':       drug_content(selector('#breastfeed div'), False),\n",
    "            'children':         drug_content(selector('#children div'), False),\n",
    "            'olds':             drug_content(selector('#olds div'), False),\n",
    "            'driving':          drug_content(selector('#driving div'), False),\n",
    "            'surgery':          drug_content(selector('#surgery div'), False),\n",
    "            'sideeffects':      drug_content(selector('#sideeffects div'), False),\n",
    "            'commercialnames':      commercialnames,\n",
    "        }\n",
    "    except Exception as e:\n",
    "# send exception to log folder\n",
    "        file = open(\"logs_files/WebTeb_Scraper.log\",\"+a\")\n",
    "        file.write(\"This error related to function one_drug_details of WebTeb Scraper file\\n\" \n",
    "                   + str(e) + \"\\n\" + \"#\" *99 + \"\\n\") # \"#\" *99 as separated lines\n",
    "    return one_drug_data"
   ]
  },
  {
   "cell_type": "code",
   "execution_count": 7,
   "metadata": {
    "collapsed": true
   },
   "outputs": [],
   "source": [
    "def all_drugs_of_one_alphabeta(driver2, char_index):\n",
    "    all_drugs = driver2.find_elements_by_css_selector('tbody tr .text-right')\n",
    "    dicts_drugs_alph = {}\n",
    "    ar_name              =[]\n",
    "    en_name              =[]\n",
    "    description          =[]\n",
    "    method               =[]\n",
    "    frequency            =[]\n",
    "    dosagerange          =[]\n",
    "    affectiontime        =[]\n",
    "    affectionperiod      =[]\n",
    "    nutrition            =[]\n",
    "    storage              =[]\n",
    "    forgotenmeal         =[]\n",
    "    medecinestop         =[]\n",
    "    excessdosing         =[]\n",
    "    pregnancy            =[]\n",
    "    breastfeed           =[]\n",
    "    children             =[]\n",
    "    olds                 =[]\n",
    "    driving              =[]\n",
    "    surgery              =[]\n",
    "    sideeffects          =[]\n",
    "    commercialnames      =[]\n",
    "    for drug in all_drugs:\n",
    "        drug_url = drug.find_element_by_css_selector('a').get_attribute('href')\n",
    "        driver3 = init_driver(gecko_driver,user_agent=user_agent)\n",
    "        get_url(drug_url, driver3)\n",
    "        ar = driver3.find_element_by_css_selector('header h1').text\n",
    "        en = driver3.find_element_by_css_selector('header .en-name').text \n",
    "        one_drug_data = one_drug_details(driver3)\n",
    "        ar_name.append(ar)\n",
    "        en_name.append(en)\n",
    "        description.append(one_drug_data['description'])\n",
    "        method.append(one_drug_data['method'])\n",
    "        frequency.append(one_drug_data['frequency'])\n",
    "        dosagerange.append(one_drug_data['dosagerange'])\n",
    "        affectiontime.append(one_drug_data['affectiontime'])\n",
    "        affectionperiod.append(one_drug_data['affectionperiod'])\n",
    "        nutrition.append(one_drug_data['nutrition'])\n",
    "        storage.append(one_drug_data['storage'])\n",
    "        forgotenmeal.append(one_drug_data['forgotenmeal'])\n",
    "        medecinestop.append(one_drug_data['medecinestop'])\n",
    "        excessdosing.append(one_drug_data['excessdosing'])\n",
    "        pregnancy.append(one_drug_data['pregnancy'])\n",
    "        breastfeed.append(one_drug_data['breastfeed'])\n",
    "        children.append(one_drug_data['children'])\n",
    "        olds.append(one_drug_data['olds'])\n",
    "        driving.append(one_drug_data['driving'])\n",
    "        surgery.append(one_drug_data['surgery'])\n",
    "        sideeffects.append(one_drug_data['sideeffects'])\n",
    "        commercialnames.append(one_drug_data['commercialnames'])\n",
    "        driver3.quit()\n",
    "\n",
    "    dicts_drugs_alph = {\n",
    "        'ar_name':               ar_name,\n",
    "        'en_name':               en_name,\n",
    "        'description':           description,\n",
    "        'method':                method,\n",
    "        'frequency':             frequency,\n",
    "        'dosagerange':           dosagerange,\n",
    "        'affectiontime':         affectiontime,\n",
    "        'affectionperiod':       affectionperiod,\n",
    "        'nutrition':             nutrition,\n",
    "        'storage':               storage,\n",
    "        'forgotenmeal':          forgotenmeal,\n",
    "        'medecinestop':          medecinestop,\n",
    "        'excessdosing':          excessdosing,\n",
    "        'pregnancy':             pregnancy,\n",
    "        'breastfeed':            breastfeed,\n",
    "        'children':              children,\n",
    "        'olds':                  olds,\n",
    "        'driving':               driving,\n",
    "        'surgery':               surgery,\n",
    "        'sideeffects':           sideeffects,\n",
    "        'commercialnames':       commercialnames,\n",
    "    }\n",
    "    df = pd.DataFrame(dicts_drugs_alph)\n",
    "    df.to_csv('data/char_'+ str(char_index) +'.csv', index=False)\n",
    "    df.to_excel('data/char_'+ str(char_index) + 'char.xlsx', index=False)\n",
    "    return True"
   ]
  },
  {
   "cell_type": "code",
   "execution_count": 9,
   "metadata": {
    "collapsed": true
   },
   "outputs": [],
   "source": [
    "def all_alphabeta(alphabetas):\n",
    "    char_index = 1\n",
    "    for alphabeta in alphabetas:\n",
    "        if char_index > 6:\n",
    "            alphabeta_url = alphabeta.find_element_by_css_selector('a').get_attribute('href')\n",
    "            driver2 = init_driver(gecko_driver,user_agent=user_agent)\n",
    "            get_url(alphabeta_url, driver2)\n",
    "            _ = all_drugs_of_one_alphabeta(driver2, char_index)\n",
    "            driver2.quit()\n",
    "            print(\"Now We in Char number: \" + str(char_index))\n",
    "        char_index +=1\n",
    "    return True\n"
   ]
  },
  {
   "cell_type": "code",
   "execution_count": null,
   "metadata": {},
   "outputs": [],
   "source": [
    "driver = init_driver(gecko_driver,user_agent=user_agent)\n",
    "get_url(web_teb, driver)\n",
    "show_more = driver.find_elements_by_css_selector('section .acc-head .bold')\n",
    "show_more = show_more[2]\n",
    "show_more.click()\n",
    "alphabetas = driver.find_elements_by_css_selector('.alphabeta.ar li')\n",
    "all_alphabeta(alphabetas)"
   ]
  },
  {
   "cell_type": "markdown",
   "metadata": {},
   "source": [
    "### Call the main function with multithreading process"
   ]
  },
  {
   "cell_type": "code",
   "execution_count": null,
   "metadata": {
    "collapsed": true
   },
   "outputs": [],
   "source": [
    "# if __name__ == '__main__':\n",
    "#     p1 = Process(target=scrap_pages, args=(jumia_url_mobile,1))\n",
    "#     p1.start()\n",
    "#     p2 = Process(target=scrap_pages, args=(jumia_url_electronics,1))\n",
    "#     p2.start()\n",
    "#     p3 = Process(target=scrap_pages, args=(jumia_url_computing,1))\n",
    "#     p3.start()\n",
    "#     p1.join()\n",
    "#     p2.join()\n",
    "#     p3.join()"
   ]
  },
  {
   "cell_type": "code",
   "execution_count": null,
   "metadata": {
    "collapsed": true
   },
   "outputs": [],
   "source": []
  }
 ],
 "metadata": {
  "kernelspec": {
   "display_name": "Python 3",
   "language": "python",
   "name": "python3"
  },
  "language_info": {
   "codemirror_mode": {
    "name": "ipython",
    "version": 3
   },
   "file_extension": ".py",
   "mimetype": "text/x-python",
   "name": "python",
   "nbconvert_exporter": "python",
   "pygments_lexer": "ipython3",
   "version": "3.6.3"
  }
 },
 "nbformat": 4,
 "nbformat_minor": 2
}

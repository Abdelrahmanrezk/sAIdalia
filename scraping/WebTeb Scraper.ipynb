{
 "cells": [
  {
   "cell_type": "code",
   "execution_count": 1,
   "metadata": {
    "collapsed": true
   },
   "outputs": [],
   "source": [
    "import os\n",
    "import re\n",
    "import pandas as pd\n",
    "from config import *\n",
    "from time import sleep\n",
    "from selenium import webdriver\n",
    "from multiprocessing import Process\n",
    "from selenium.webdriver.common.by import By\n",
    "from selenium.webdriver.firefox.options import Options\n"
   ]
  },
  {
   "cell_type": "code",
   "execution_count": 2,
   "metadata": {
    "collapsed": true
   },
   "outputs": [],
   "source": [
    "try:\n",
    "    current_path = os.path.dirname(os.path.abspath(__file__))\n",
    "except:\n",
    "    current_path = '.'"
   ]
  },
  {
   "cell_type": "code",
   "execution_count": 3,
   "metadata": {
    "collapsed": true
   },
   "outputs": [],
   "source": [
    "def init_driver(gecko_driver='', user_agent='', load_images=True, is_headless=False):\n",
    "    '''\n",
    "        This function is just to set up some of default for browser\n",
    "    '''\n",
    "    firefox_profile = webdriver.FirefoxProfile()\n",
    "    \n",
    "    firefox_profile.set_preference('dom.ipc.plugins.enabled.libflashplayer.so', False)\n",
    "    firefox_profile.set_preference(\"media.volume_scale\", \"0.0\")\n",
    "    firefox_profile.set_preference(\"dom.webnotifications.enabled\", False)\n",
    "    if user_agent != '':\n",
    "        firefox_profile.set_preference(\"general.useragent.override\", user_agent)\n",
    "    if not load_images:\n",
    "        firefox_profile.set_preference('permissions.default.image', 2)\n",
    "\n",
    "    options = Options()\n",
    "    options.headless = is_headless\n",
    "    \n",
    "    driver = webdriver.Firefox(options=options,\n",
    "                               executable_path=f'{current_path}/{gecko_driver}',\n",
    "                               firefox_profile=firefox_profile)\n",
    "    \n",
    "    return driver"
   ]
  },
  {
   "cell_type": "code",
   "execution_count": 4,
   "metadata": {
    "collapsed": true
   },
   "outputs": [],
   "source": [
    "def get_url(url, driver):\n",
    "    '''\n",
    "    Argument:\n",
    "        url of any page to get\n",
    "        driver that was inilized\n",
    "    return:\n",
    "        True\n",
    "    '''\n",
    "    driver.get(url)\n",
    "#     driver.refresh()\n",
    "#     sleep(2)\n",
    "    return True\n"
   ]
  },
  {
   "cell_type": "code",
   "execution_count": 5,
   "metadata": {
    "collapsed": true
   },
   "outputs": [],
   "source": [
    "def drug_content(contents, commercialnames):\n",
    "    all_data = \"\"\n",
    "    commercialnames = []\n",
    "    if commercialnames:\n",
    "        for text_in in contents:\n",
    "            commercialnames.append(text_in.text)\n",
    "        return commercialnames\n",
    "    else:\n",
    "        for text_in in contents:\n",
    "            all_data += text_in.text +' '\n",
    "        return all_data"
   ]
  },
  {
   "cell_type": "code",
   "execution_count": 6,
   "metadata": {
    "collapsed": true
   },
   "outputs": [],
   "source": [
    "def one_drug_details(driver3):\n",
    "    one_drug_data = {}\n",
    "    selector = driver3.find_elements_by_css_selector\n",
    "    try:\n",
    "        commercialnames       = drug_content(selector('#commercialnames div tbody tr td'), True)\n",
    "        commercialnames       = re.findall('[^A-Za-z 0-9().\\n]+', commercialnames)\n",
    "        one_drug_data = {\n",
    "#             'ar_name':      selector(),\n",
    "#             'en_name':      drug_content(selector('#whatisdrug div p'), False),\n",
    "            'description':      drug_content(selector('#whatisdrug div p'), False),\n",
    "            'method':           drug_content(selector('#method div'), False),\n",
    "            'frequency':        drug_content(selector('#frequency div'), False),\n",
    "            'dosagerange':      drug_content(selector('#dosagerange div'), False),\n",
    "            'affectiontime':    drug_content(selector('#affectiontime div'), False),\n",
    "            'affectionperiod':  drug_content(selector('#affectionperiod div'), False),\n",
    "            'nutrition':        drug_content(selector('#nutrition div'), False),\n",
    "            'storage':          drug_content(selector('#storage div'), False),\n",
    "            'forgotenmeal':     drug_content(selector('#forgotenmeal div'), False),\n",
    "            'medecinestop':     drug_content(selector('#medecinestop div'), False),\n",
    "            'excessdosing':     drug_content(selector('#excessdosing div'), False),\n",
    "            'pregnancy':        drug_content(selector('#pregnancy div'), False),\n",
    "            'breastfeed':       drug_content(selector('#breastfeed div'), False),\n",
    "            'children':         drug_content(selector('#children div'), False),\n",
    "            'olds':             drug_content(selector('#olds div'), False),\n",
    "            'driving':          drug_content(selector('#driving div'), False),\n",
    "            'surgery':          drug_content(selector('#surgery div'), False),\n",
    "            'sideeffects':      drug_content(selector('#sideeffects div'), False),\n",
    "            'commercialnames':      commercialnames,\n",
    "        }\n",
    "    except Exception as e:\n",
    "# send exception to log folder\n",
    "        file = open(\"logs_files/WebTeb_Scraper.log\",\"+a\")\n",
    "        file.write(\"This error related to function one_drug_details of WebTeb Scraper file\\n\" \n",
    "                   + str(e) + \"\\n\" + \"#\" *99 + \"\\n\") # \"#\" *99 as separated lines\n",
    "    return one_drug_data"
   ]
  },
  {
   "cell_type": "code",
   "execution_count": 7,
   "metadata": {
    "collapsed": true
   },
   "outputs": [],
   "source": [
    "def all_drugs_of_one_alphabeta(driver2, char_index):\n",
    "    all_drugs = driver2.find_elements_by_css_selector('tbody tr .text-right')\n",
    "    dicts_drugs_alph = {}\n",
    "    ar_name              =[]\n",
    "    en_name              =[]\n",
    "    description          =[]\n",
    "    method               =[]\n",
    "    frequency            =[]\n",
    "    dosagerange          =[]\n",
    "    affectiontime        =[]\n",
    "    affectionperiod      =[]\n",
    "    nutrition            =[]\n",
    "    storage              =[]\n",
    "    forgotenmeal         =[]\n",
    "    medecinestop         =[]\n",
    "    excessdosing         =[]\n",
    "    pregnancy            =[]\n",
    "    breastfeed           =[]\n",
    "    children             =[]\n",
    "    olds                 =[]\n",
    "    driving              =[]\n",
    "    surgery              =[]\n",
    "    sideeffects          =[]\n",
    "    commercialnames      =[]\n",
    "    for drug in all_drugs:\n",
    "        drug_url = drug.find_element_by_css_selector('a').get_attribute('href')\n",
    "        driver3 = init_driver(gecko_driver,user_agent=user_agent)\n",
    "        get_url(drug_url, driver3)\n",
    "        ar = driver3.find_element_by_css_selector('header h1').text\n",
    "        en = driver3.find_element_by_css_selector('header .en-name').text \n",
    "        one_drug_data = one_drug_details(driver3)\n",
    "        ar_name.append(ar)\n",
    "        en_name.append(en)\n",
    "        description.append(one_drug_data['description'])\n",
    "        method.append(one_drug_data['method'])\n",
    "        frequency.append(one_drug_data['frequency'])\n",
    "        dosagerange.append(one_drug_data['dosagerange'])\n",
    "        affectiontime.append(one_drug_data['affectiontime'])\n",
    "        affectionperiod.append(one_drug_data['affectionperiod'])\n",
    "        nutrition.append(one_drug_data['nutrition'])\n",
    "        storage.append(one_drug_data['storage'])\n",
    "        forgotenmeal.append(one_drug_data['forgotenmeal'])\n",
    "        medecinestop.append(one_drug_data['medecinestop'])\n",
    "        excessdosing.append(one_drug_data['excessdosing'])\n",
    "        pregnancy.append(one_drug_data['pregnancy'])\n",
    "        breastfeed.append(one_drug_data['breastfeed'])\n",
    "        children.append(one_drug_data['children'])\n",
    "        olds.append(one_drug_data['olds'])\n",
    "        driving.append(one_drug_data['driving'])\n",
    "        surgery.append(one_drug_data['surgery'])\n",
    "        sideeffects.append(one_drug_data['sideeffects'])\n",
    "        commercialnames.append(one_drug_data['commercialnames'])\n",
    "        driver3.quit()\n",
    "\n",
    "    dicts_drugs_alph = {\n",
    "        'ar_name':               ar_name,\n",
    "        'en_name':               en_name,\n",
    "        'description':           description,\n",
    "        'method':                method,\n",
    "        'frequency':             frequency,\n",
    "        'dosagerange':           dosagerange,\n",
    "        'affectiontime':         affectiontime,\n",
    "        'affectionperiod':       affectionperiod,\n",
    "        'nutrition':             nutrition,\n",
    "        'storage':               storage,\n",
    "        'forgotenmeal':          forgotenmeal,\n",
    "        'medecinestop':          medecinestop,\n",
    "        'excessdosing':          excessdosing,\n",
    "        'pregnancy':             pregnancy,\n",
    "        'breastfeed':            breastfeed,\n",
    "        'children':              children,\n",
    "        'olds':                  olds,\n",
    "        'driving':               driving,\n",
    "        'surgery':               surgery,\n",
    "        'sideeffects':           sideeffects,\n",
    "        'commercialnames':       commercialnames,\n",
    "    }\n",
    "    df = pd.DataFrame(dicts_drugs_alph)\n",
    "    df.to_csv('data/char_'+ str(char_index) +'.csv', index=False)\n",
    "    df.to_excel('data/char_'+ str(char_index) + 'char.xlsx', index=False)\n",
    "    return True"
   ]
  },
  {
   "cell_type": "code",
   "execution_count": 8,
   "metadata": {
    "collapsed": true
   },
   "outputs": [],
   "source": [
    "def all_alphabeta(alphabetas):\n",
    "    char_index = 1\n",
    "    for alphabeta in alphabetas:\n",
    "        alphabeta_url = alphabeta.find_element_by_css_selector('a').get_attribute('href')\n",
    "        driver2 = init_driver(gecko_driver,user_agent=user_agent)\n",
    "        get_url(alphabeta_url, driver2)\n",
    "        _ = all_drugs_of_one_alphabeta(driver2, char_index)\n",
    "        driver2.quit()\n",
    "        print(\"Now We in Char number: \" + str(char_index))\n",
    "        char_index +=1\n",
    "    return True\n"
   ]
  },
  {
   "cell_type": "code",
   "execution_count": 9,
   "metadata": {},
   "outputs": [
    {
     "name": "stdout",
     "output_type": "stream",
     "text": [
      "Now We in Char number: 1\n",
      "Now We in Char number: 2\n",
      "Now We in Char number: 3\n",
      "Now We in Char number: 4\n",
      "Now We in Char number: 5\n",
      "Now We in Char number: 6\n"
     ]
    },
    {
     "ename": "NoSuchElementException",
     "evalue": "Message: Unable to locate element: header h1\n",
     "output_type": "error",
     "traceback": [
      "\u001b[0;31m---------------------------------------------------------------------------\u001b[0m",
      "\u001b[0;31mNoSuchElementException\u001b[0m                    Traceback (most recent call last)",
      "\u001b[0;32m<ipython-input-9-0cfe748df6ad>\u001b[0m in \u001b[0;36m<module>\u001b[0;34m()\u001b[0m\n\u001b[1;32m      5\u001b[0m \u001b[0mshow_more\u001b[0m\u001b[0;34m.\u001b[0m\u001b[0mclick\u001b[0m\u001b[0;34m(\u001b[0m\u001b[0;34m)\u001b[0m\u001b[0;34m\u001b[0m\u001b[0m\n\u001b[1;32m      6\u001b[0m \u001b[0malphabetas\u001b[0m \u001b[0;34m=\u001b[0m \u001b[0mdriver\u001b[0m\u001b[0;34m.\u001b[0m\u001b[0mfind_elements_by_css_selector\u001b[0m\u001b[0;34m(\u001b[0m\u001b[0;34m'.alphabeta.ar li'\u001b[0m\u001b[0;34m)\u001b[0m\u001b[0;34m\u001b[0m\u001b[0m\n\u001b[0;32m----> 7\u001b[0;31m \u001b[0mall_alphabeta\u001b[0m\u001b[0;34m(\u001b[0m\u001b[0malphabetas\u001b[0m\u001b[0;34m)\u001b[0m\u001b[0;34m\u001b[0m\u001b[0m\n\u001b[0m",
      "\u001b[0;32m<ipython-input-8-c7bce1e04c63>\u001b[0m in \u001b[0;36mall_alphabeta\u001b[0;34m(alphabetas)\u001b[0m\n\u001b[1;32m      5\u001b[0m         \u001b[0mdriver2\u001b[0m \u001b[0;34m=\u001b[0m \u001b[0minit_driver\u001b[0m\u001b[0;34m(\u001b[0m\u001b[0mgecko_driver\u001b[0m\u001b[0;34m,\u001b[0m\u001b[0muser_agent\u001b[0m\u001b[0;34m=\u001b[0m\u001b[0muser_agent\u001b[0m\u001b[0;34m)\u001b[0m\u001b[0;34m\u001b[0m\u001b[0m\n\u001b[1;32m      6\u001b[0m         \u001b[0mget_url\u001b[0m\u001b[0;34m(\u001b[0m\u001b[0malphabeta_url\u001b[0m\u001b[0;34m,\u001b[0m \u001b[0mdriver2\u001b[0m\u001b[0;34m)\u001b[0m\u001b[0;34m\u001b[0m\u001b[0m\n\u001b[0;32m----> 7\u001b[0;31m         \u001b[0m_\u001b[0m \u001b[0;34m=\u001b[0m \u001b[0mall_drugs_of_one_alphabeta\u001b[0m\u001b[0;34m(\u001b[0m\u001b[0mdriver2\u001b[0m\u001b[0;34m,\u001b[0m \u001b[0mchar_index\u001b[0m\u001b[0;34m)\u001b[0m\u001b[0;34m\u001b[0m\u001b[0m\n\u001b[0m\u001b[1;32m      8\u001b[0m         \u001b[0mdriver2\u001b[0m\u001b[0;34m.\u001b[0m\u001b[0mquit\u001b[0m\u001b[0;34m(\u001b[0m\u001b[0;34m)\u001b[0m\u001b[0;34m\u001b[0m\u001b[0m\n\u001b[1;32m      9\u001b[0m         \u001b[0mprint\u001b[0m\u001b[0;34m(\u001b[0m\u001b[0;34m\"Now We in Char number: \"\u001b[0m \u001b[0;34m+\u001b[0m \u001b[0mstr\u001b[0m\u001b[0;34m(\u001b[0m\u001b[0mchar_index\u001b[0m\u001b[0;34m)\u001b[0m\u001b[0;34m)\u001b[0m\u001b[0;34m\u001b[0m\u001b[0m\n",
      "\u001b[0;32m<ipython-input-7-2a59df5ba402>\u001b[0m in \u001b[0;36mall_drugs_of_one_alphabeta\u001b[0;34m(driver2, char_index)\u001b[0m\n\u001b[1;32m     27\u001b[0m         \u001b[0mdriver3\u001b[0m \u001b[0;34m=\u001b[0m \u001b[0minit_driver\u001b[0m\u001b[0;34m(\u001b[0m\u001b[0mgecko_driver\u001b[0m\u001b[0;34m,\u001b[0m\u001b[0muser_agent\u001b[0m\u001b[0;34m=\u001b[0m\u001b[0muser_agent\u001b[0m\u001b[0;34m)\u001b[0m\u001b[0;34m\u001b[0m\u001b[0m\n\u001b[1;32m     28\u001b[0m         \u001b[0mget_url\u001b[0m\u001b[0;34m(\u001b[0m\u001b[0mdrug_url\u001b[0m\u001b[0;34m,\u001b[0m \u001b[0mdriver3\u001b[0m\u001b[0;34m)\u001b[0m\u001b[0;34m\u001b[0m\u001b[0m\n\u001b[0;32m---> 29\u001b[0;31m         \u001b[0mar\u001b[0m \u001b[0;34m=\u001b[0m \u001b[0mdriver3\u001b[0m\u001b[0;34m.\u001b[0m\u001b[0mfind_element_by_css_selector\u001b[0m\u001b[0;34m(\u001b[0m\u001b[0;34m'header h1'\u001b[0m\u001b[0;34m)\u001b[0m\u001b[0;34m.\u001b[0m\u001b[0mtext\u001b[0m\u001b[0;34m\u001b[0m\u001b[0m\n\u001b[0m\u001b[1;32m     30\u001b[0m         \u001b[0men\u001b[0m \u001b[0;34m=\u001b[0m \u001b[0mdriver3\u001b[0m\u001b[0;34m.\u001b[0m\u001b[0mfind_element_by_css_selector\u001b[0m\u001b[0;34m(\u001b[0m\u001b[0;34m'header .en-name'\u001b[0m\u001b[0;34m)\u001b[0m\u001b[0;34m.\u001b[0m\u001b[0mtext\u001b[0m\u001b[0;34m\u001b[0m\u001b[0m\n\u001b[1;32m     31\u001b[0m         \u001b[0mone_drug_data\u001b[0m \u001b[0;34m=\u001b[0m \u001b[0mone_drug_details\u001b[0m\u001b[0;34m(\u001b[0m\u001b[0mdriver3\u001b[0m\u001b[0;34m)\u001b[0m\u001b[0;34m\u001b[0m\u001b[0m\n",
      "\u001b[0;32m/home/abdelrahman/anaconda3/lib/python3.6/site-packages/selenium/webdriver/remote/webdriver.py\u001b[0m in \u001b[0;36mfind_element_by_css_selector\u001b[0;34m(self, css_selector)\u001b[0m\n\u001b[1;32m    596\u001b[0m             \u001b[0melement\u001b[0m \u001b[0;34m=\u001b[0m \u001b[0mdriver\u001b[0m\u001b[0;34m.\u001b[0m\u001b[0mfind_element_by_css_selector\u001b[0m\u001b[0;34m(\u001b[0m\u001b[0;34m'#foo'\u001b[0m\u001b[0;34m)\u001b[0m\u001b[0;34m\u001b[0m\u001b[0m\n\u001b[1;32m    597\u001b[0m         \"\"\"\n\u001b[0;32m--> 598\u001b[0;31m         \u001b[0;32mreturn\u001b[0m \u001b[0mself\u001b[0m\u001b[0;34m.\u001b[0m\u001b[0mfind_element\u001b[0m\u001b[0;34m(\u001b[0m\u001b[0mby\u001b[0m\u001b[0;34m=\u001b[0m\u001b[0mBy\u001b[0m\u001b[0;34m.\u001b[0m\u001b[0mCSS_SELECTOR\u001b[0m\u001b[0;34m,\u001b[0m \u001b[0mvalue\u001b[0m\u001b[0;34m=\u001b[0m\u001b[0mcss_selector\u001b[0m\u001b[0;34m)\u001b[0m\u001b[0;34m\u001b[0m\u001b[0m\n\u001b[0m\u001b[1;32m    599\u001b[0m \u001b[0;34m\u001b[0m\u001b[0m\n\u001b[1;32m    600\u001b[0m     \u001b[0;32mdef\u001b[0m \u001b[0mfind_elements_by_css_selector\u001b[0m\u001b[0;34m(\u001b[0m\u001b[0mself\u001b[0m\u001b[0;34m,\u001b[0m \u001b[0mcss_selector\u001b[0m\u001b[0;34m)\u001b[0m\u001b[0;34m:\u001b[0m\u001b[0;34m\u001b[0m\u001b[0m\n",
      "\u001b[0;32m/home/abdelrahman/anaconda3/lib/python3.6/site-packages/selenium/webdriver/remote/webdriver.py\u001b[0m in \u001b[0;36mfind_element\u001b[0;34m(self, by, value)\u001b[0m\n\u001b[1;32m    976\u001b[0m         return self.execute(Command.FIND_ELEMENT, {\n\u001b[1;32m    977\u001b[0m             \u001b[0;34m'using'\u001b[0m\u001b[0;34m:\u001b[0m \u001b[0mby\u001b[0m\u001b[0;34m,\u001b[0m\u001b[0;34m\u001b[0m\u001b[0m\n\u001b[0;32m--> 978\u001b[0;31m             'value': value})['value']\n\u001b[0m\u001b[1;32m    979\u001b[0m \u001b[0;34m\u001b[0m\u001b[0m\n\u001b[1;32m    980\u001b[0m     \u001b[0;32mdef\u001b[0m \u001b[0mfind_elements\u001b[0m\u001b[0;34m(\u001b[0m\u001b[0mself\u001b[0m\u001b[0;34m,\u001b[0m \u001b[0mby\u001b[0m\u001b[0;34m=\u001b[0m\u001b[0mBy\u001b[0m\u001b[0;34m.\u001b[0m\u001b[0mID\u001b[0m\u001b[0;34m,\u001b[0m \u001b[0mvalue\u001b[0m\u001b[0;34m=\u001b[0m\u001b[0;32mNone\u001b[0m\u001b[0;34m)\u001b[0m\u001b[0;34m:\u001b[0m\u001b[0;34m\u001b[0m\u001b[0m\n",
      "\u001b[0;32m/home/abdelrahman/anaconda3/lib/python3.6/site-packages/selenium/webdriver/remote/webdriver.py\u001b[0m in \u001b[0;36mexecute\u001b[0;34m(self, driver_command, params)\u001b[0m\n\u001b[1;32m    319\u001b[0m         \u001b[0mresponse\u001b[0m \u001b[0;34m=\u001b[0m \u001b[0mself\u001b[0m\u001b[0;34m.\u001b[0m\u001b[0mcommand_executor\u001b[0m\u001b[0;34m.\u001b[0m\u001b[0mexecute\u001b[0m\u001b[0;34m(\u001b[0m\u001b[0mdriver_command\u001b[0m\u001b[0;34m,\u001b[0m \u001b[0mparams\u001b[0m\u001b[0;34m)\u001b[0m\u001b[0;34m\u001b[0m\u001b[0m\n\u001b[1;32m    320\u001b[0m         \u001b[0;32mif\u001b[0m \u001b[0mresponse\u001b[0m\u001b[0;34m:\u001b[0m\u001b[0;34m\u001b[0m\u001b[0m\n\u001b[0;32m--> 321\u001b[0;31m             \u001b[0mself\u001b[0m\u001b[0;34m.\u001b[0m\u001b[0merror_handler\u001b[0m\u001b[0;34m.\u001b[0m\u001b[0mcheck_response\u001b[0m\u001b[0;34m(\u001b[0m\u001b[0mresponse\u001b[0m\u001b[0;34m)\u001b[0m\u001b[0;34m\u001b[0m\u001b[0m\n\u001b[0m\u001b[1;32m    322\u001b[0m             response['value'] = self._unwrap_value(\n\u001b[1;32m    323\u001b[0m                 response.get('value', None))\n",
      "\u001b[0;32m/home/abdelrahman/anaconda3/lib/python3.6/site-packages/selenium/webdriver/remote/errorhandler.py\u001b[0m in \u001b[0;36mcheck_response\u001b[0;34m(self, response)\u001b[0m\n\u001b[1;32m    240\u001b[0m                 \u001b[0malert_text\u001b[0m \u001b[0;34m=\u001b[0m \u001b[0mvalue\u001b[0m\u001b[0;34m[\u001b[0m\u001b[0;34m'alert'\u001b[0m\u001b[0;34m]\u001b[0m\u001b[0;34m.\u001b[0m\u001b[0mget\u001b[0m\u001b[0;34m(\u001b[0m\u001b[0;34m'text'\u001b[0m\u001b[0;34m)\u001b[0m\u001b[0;34m\u001b[0m\u001b[0m\n\u001b[1;32m    241\u001b[0m             \u001b[0;32mraise\u001b[0m \u001b[0mexception_class\u001b[0m\u001b[0;34m(\u001b[0m\u001b[0mmessage\u001b[0m\u001b[0;34m,\u001b[0m \u001b[0mscreen\u001b[0m\u001b[0;34m,\u001b[0m \u001b[0mstacktrace\u001b[0m\u001b[0;34m,\u001b[0m \u001b[0malert_text\u001b[0m\u001b[0;34m)\u001b[0m\u001b[0;34m\u001b[0m\u001b[0m\n\u001b[0;32m--> 242\u001b[0;31m         \u001b[0;32mraise\u001b[0m \u001b[0mexception_class\u001b[0m\u001b[0;34m(\u001b[0m\u001b[0mmessage\u001b[0m\u001b[0;34m,\u001b[0m \u001b[0mscreen\u001b[0m\u001b[0;34m,\u001b[0m \u001b[0mstacktrace\u001b[0m\u001b[0;34m)\u001b[0m\u001b[0;34m\u001b[0m\u001b[0m\n\u001b[0m\u001b[1;32m    243\u001b[0m \u001b[0;34m\u001b[0m\u001b[0m\n\u001b[1;32m    244\u001b[0m     \u001b[0;32mdef\u001b[0m \u001b[0m_value_or_default\u001b[0m\u001b[0;34m(\u001b[0m\u001b[0mself\u001b[0m\u001b[0;34m,\u001b[0m \u001b[0mobj\u001b[0m\u001b[0;34m,\u001b[0m \u001b[0mkey\u001b[0m\u001b[0;34m,\u001b[0m \u001b[0mdefault\u001b[0m\u001b[0;34m)\u001b[0m\u001b[0;34m:\u001b[0m\u001b[0;34m\u001b[0m\u001b[0m\n",
      "\u001b[0;31mNoSuchElementException\u001b[0m: Message: Unable to locate element: header h1\n"
     ]
    }
   ],
   "source": [
    "driver = init_driver(gecko_driver,user_agent=user_agent)\n",
    "get_url(web_teb, driver)\n",
    "show_more = driver.find_elements_by_css_selector('section .acc-head .bold')\n",
    "show_more = show_more[2]\n",
    "show_more.click()\n",
    "alphabetas = driver.find_elements_by_css_selector('.alphabeta.ar li')\n",
    "all_alphabeta(alphabetas)"
   ]
  },
  {
   "cell_type": "markdown",
   "metadata": {},
   "source": [
    "### Call the main function with multithreading process"
   ]
  },
  {
   "cell_type": "code",
   "execution_count": null,
   "metadata": {
    "collapsed": true
   },
   "outputs": [],
   "source": [
    "# if __name__ == '__main__':\n",
    "#     p1 = Process(target=scrap_pages, args=(jumia_url_mobile,1))\n",
    "#     p1.start()\n",
    "#     p2 = Process(target=scrap_pages, args=(jumia_url_electronics,1))\n",
    "#     p2.start()\n",
    "#     p3 = Process(target=scrap_pages, args=(jumia_url_computing,1))\n",
    "#     p3.start()\n",
    "#     p1.join()\n",
    "#     p2.join()\n",
    "#     p3.join()"
   ]
  },
  {
   "cell_type": "code",
   "execution_count": null,
   "metadata": {
    "collapsed": true
   },
   "outputs": [],
   "source": []
  }
 ],
 "metadata": {
  "kernelspec": {
   "display_name": "Python 3",
   "language": "python",
   "name": "python3"
  },
  "language_info": {
   "codemirror_mode": {
    "name": "ipython",
    "version": 3
   },
   "file_extension": ".py",
   "mimetype": "text/x-python",
   "name": "python",
   "nbconvert_exporter": "python",
   "pygments_lexer": "ipython3",
   "version": "3.6.3"
  }
 },
 "nbformat": 4,
 "nbformat_minor": 2
}
